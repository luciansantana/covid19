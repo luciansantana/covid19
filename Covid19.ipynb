{
  "nbformat": 4,
  "nbformat_minor": 0,
  "metadata": {
    "colab": {
      "name": "Covid19.ipynb",
      "provenance": [],
      "authorship_tag": "ABX9TyPJ93x7jBwvjueOOgFtAlXX",
      "include_colab_link": true
    },
    "kernelspec": {
      "name": "python3",
      "display_name": "Python 3"
    }
  },
  "cells": [
    {
      "cell_type": "markdown",
      "metadata": {
        "id": "view-in-github",
        "colab_type": "text"
      },
      "source": [
        "<a href=\"https://colab.research.google.com/github/luciansantana/covid19/blob/master/Covid19.ipynb\" target=\"_parent\"><img src=\"https://colab.research.google.com/assets/colab-badge.svg\" alt=\"Open In Colab\"/></a>"
      ]
    },
    {
      "cell_type": "code",
      "metadata": {
        "id": "sUtLobFWkij1",
        "colab_type": "code",
        "colab": {}
      },
      "source": [
        "import pandas as pd\n",
        "import numpy as np"
      ],
      "execution_count": 2,
      "outputs": []
    },
    {
      "cell_type": "markdown",
      "metadata": {
        "id": "9jOx1nFUNxQc",
        "colab_type": "text"
      },
      "source": [
        "#COVID"
      ]
    },
    {
      "cell_type": "code",
      "metadata": {
        "id": "1jBZ3jbqlVbQ",
        "colab_type": "code",
        "colab": {}
      },
      "source": [
        "covid = pd.read_excel(\"https://github.com/luciansantana/covid19/blob/master/HIST_PAINEL_COVIDBR_22jun2020.xlsx?raw=true\")"
      ],
      "execution_count": 267,
      "outputs": []
    },
    {
      "cell_type": "markdown",
      "metadata": {
        "id": "TcJnv1HvNcWz",
        "colab_type": "text"
      },
      "source": [
        "##Médias móveis por região"
      ]
    },
    {
      "cell_type": "code",
      "metadata": {
        "id": "L63BsUWbA4FQ",
        "colab_type": "code",
        "colab": {}
      },
      "source": [
        "teste = covid.dropna(subset = ['estado'])\n",
        "teste = teste[teste['regiao']=='Nordeste']\n",
        "cod = sorted(teste['estado'].unique())\n",
        "plt.figure(figsize = (22,8))\n",
        "for i in cod:\n",
        "  estado = covid[covid['estado']==i]\n",
        "  estado = estado[estado['municipio'].isnull()]\n",
        "  estado = estado.dropna(subset = ['populacaoTCU2019'])\n",
        "  estado = estado.set_index(['data'])\n",
        "  x = estado['casosNovos']\n",
        "  mean_rolling = x.rolling(window=7).mean()\n",
        "  plt.plot(mean_rolling,label = i)\n",
        "  plt.ylabel('Número de obitos')\n",
        "  plt.xlabel('Data')\n",
        "  plt.legend()"
      ],
      "execution_count": null,
      "outputs": []
    },
    {
      "cell_type": "markdown",
      "metadata": {
        "id": "I04R0BbkN3YT",
        "colab_type": "text"
      },
      "source": [
        "## Médias móveis por cidade"
      ]
    },
    {
      "cell_type": "code",
      "metadata": {
        "id": "MAti2bbvN0rJ",
        "colab_type": "code",
        "colab": {
          "base_uri": "https://localhost:8080/",
          "height": 338
        },
        "outputId": "39c9fabe-df1e-4e1f-a7f8-77a6a3b4cb04"
      },
      "source": [
        "salvador = covid[covid['municipio']=='Salvador']\n",
        "salvador = salvador.set_index('data')\n",
        "variavel = salvador['casosNovos']\n",
        "variavel = (variavel**2)**(1/2)\n",
        "mean_salvador_rolling = variavel.rolling(window = 7).mean()\n",
        "plt.figure(figsize=(22,8))\n",
        "plt.bar(variavel.index,variavel)\n",
        "plt.plot(mean_salvador_rolling)"
      ],
      "execution_count": 369,
      "outputs": [
        {
          "output_type": "execute_result",
          "data": {
            "text/plain": [
              "[<matplotlib.lines.Line2D at 0x7fc7c48fb860>]"
            ]
          },
          "metadata": {
            "tags": []
          },
          "execution_count": 369
        },
        {
          "output_type": "display_data",
          "data": {
            "image/png": "[encoded data removed]",
            "text/plain": [
              "<Figure size 1584x576 with 1 Axes>"
            ]
          },
          "metadata": {
            "tags": [],
            "needs_background": "light"
          }
        }
      ]
    },
    {
      "cell_type": "code",
      "metadata": {
        "id": "gmoo23k9V2jT",
        "colab_type": "code",
        "colab": {
          "base_uri": "https://localhost:8080/",
          "height": 34
        },
        "outputId": "13114f4f-3647-42e9-b256-0b4d0dcce1dc"
      },
      "source": [
        ""
      ],
      "execution_count": 367,
      "outputs": [
        {
          "output_type": "stream",
          "text": [
            "Series([], Name: casosNovos, dtype: float64)\n"
          ],
          "name": "stdout"
        }
      ]
    },
    {
      "cell_type": "code",
      "metadata": {
        "id": "6DQ2A-_XY8kz",
        "colab_type": "code",
        "colab": {
          "base_uri": "https://localhost:8080/",
          "height": 238
        },
        "outputId": "a1abe6a7-51bd-4c19-a9c2-30bfb4a426ec"
      },
      "source": [
        "variavel"
      ],
      "execution_count": 364,
      "outputs": [
        {
          "output_type": "execute_result",
          "data": {
            "text/plain": [
              "data\n",
              "2020-03-27     0\n",
              "2020-03-28     0\n",
              "2020-03-29     1\n",
              "2020-03-30     0\n",
              "2020-03-31     1\n",
              "              ..\n",
              "2020-06-18    27\n",
              "2020-06-19    27\n",
              "2020-06-20    30\n",
              "2020-06-21    20\n",
              "2020-06-22    15\n",
              "Name: obitosNovos, Length: 88, dtype: int64"
            ]
          },
          "metadata": {
            "tags": []
          },
          "execution_count": 364
        }
      ]
    },
    {
      "cell_type": "markdown",
      "metadata": {
        "id": "0L1AHpFuRTUn",
        "colab_type": "text"
      },
      "source": [
        "## Médias móveis Brasil"
      ]
    },
    {
      "cell_type": "code",
      "metadata": {
        "id": "F6VkjstdRYbH",
        "colab_type": "code",
        "colab": {
          "base_uri": "https://localhost:8080/",
          "height": 343
        },
        "outputId": "9eead25e-82a9-4c48-fb58-8514ea714d50"
      },
      "source": [
        "brazil_covid = covid[covid['regiao']=='Brasil']\n",
        "brazil_covid = brazil_covid.set_index('data')\n",
        "variavel = brazil_covid['casosNovos']\n",
        "data = variavel.index\n",
        "mean_brazil_rolling = variavel.rolling(window=7).mean()\n",
        "plt.figure(figsize=(22,8))\n",
        "plt.bar(data,variavel)\n",
        "plt.plot(mean_brazil_rolling)\n",
        "plt.ylabel('Número de casos')\n",
        "plt.xlabel('Data')"
      ],
      "execution_count": 370,
      "outputs": [
        {
          "output_type": "execute_result",
          "data": {
            "text/plain": [
              "Text(0.5, 0, 'Data')"
            ]
          },
          "metadata": {
            "tags": []
          },
          "execution_count": 370
        },
        {
          "output_type": "display_data",
          "data": {
            "image/png": "[encoded data removed]",
            "text/plain": [
              "<Figure size 1584x576 with 1 Axes>"
            ]
          },
          "metadata": {
            "tags": [],
            "needs_background": "light"
          }
        }
      ]
    },
    {
      "cell_type": "code",
      "metadata": {
        "id": "YNwW5tJbVIrU",
        "colab_type": "code",
        "colab": {}
      },
      "source": [
        ""
      ],
      "execution_count": null,
      "outputs": []
    }
  ]
}